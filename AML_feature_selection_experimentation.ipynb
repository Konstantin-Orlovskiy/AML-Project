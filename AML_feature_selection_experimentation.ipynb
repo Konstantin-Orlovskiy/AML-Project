{
 "cells": [
  {
   "cell_type": "code",
   "execution_count": 1,
   "metadata": {},
   "outputs": [],
   "source": [
    "# This notebook is used for the feature selection stage of the AML project.\n",
    "# It takes the pre-processed data as input and then tries several different feature selection techniques.\n",
    "# The output is a list of the selected features or a reduced dimension dataset.\n",
    "# The final chosen feature selection method will be used in the final .py file for the project."
   ]
  },
  {
   "cell_type": "code",
   "execution_count": 1,
   "metadata": {},
   "outputs": [
    {
     "name": "stderr",
     "output_type": "stream",
     "text": [
      "/anaconda3/lib/python3.6/site-packages/sklearn/ensemble/weight_boosting.py:29: DeprecationWarning: numpy.core.umath_tests is an internal NumPy module and should not be imported. It will be removed in a future NumPy release.\n",
      "  from numpy.core.umath_tests import inner1d\n"
     ]
    }
   ],
   "source": [
    "# Import libraries\n",
    "import numpy as np\n",
    "import pandas as pd\n",
    "from sklearn.feature_selection import RFE\n",
    "from sklearn.linear_model import LogisticRegression\n",
    "from sklearn.svm import LinearSVC\n",
    "from sklearn.ensemble import ExtraTreesClassifier\n",
    "from sklearn.decomposition import PCA\n",
    "\n",
    "np.random.seed(999)"
   ]
  },
  {
   "cell_type": "code",
   "execution_count": 2,
   "metadata": {},
   "outputs": [],
   "source": [
    "# Read in pre-processed training data\n",
    "file = 'ScaledDataSet.csv'\n",
    "data = pd.read_csv(file)"
   ]
  },
  {
   "cell_type": "code",
   "execution_count": 4,
   "metadata": {},
   "outputs": [
    {
     "name": "stdout",
     "output_type": "stream",
     "text": [
      "152\n"
     ]
    }
   ],
   "source": [
    "# Define our features and our target classifier\n",
    "X = data.iloc[:,:-1]\n",
    "Y = data.iloc[:,-1]\n",
    "\n",
    "# Initial no. of features\n",
    "print(len(X.columns))"
   ]
  },
  {
   "cell_type": "code",
   "execution_count": 5,
   "metadata": {},
   "outputs": [
    {
     "name": "stdout",
     "output_type": "stream",
     "text": [
      "78\n"
     ]
    }
   ],
   "source": [
    "# First, remove all features with zero variance i.e. features with constant values. \n",
    "#This will be a step in every feature selection process we run.\n",
    "X = X.loc[:,X.apply(pd.Series.nunique) != 1]\n",
    "\n",
    "# Reduced no. of features\n",
    "print(len(X.columns))"
   ]
  },
  {
   "cell_type": "code",
   "execution_count": 6,
   "metadata": {},
   "outputs": [],
   "source": [
    "# Chi squared test will not work as we have some negative values"
   ]
  },
  {
   "cell_type": "code",
   "execution_count": 6,
   "metadata": {},
   "outputs": [
    {
     "name": "stdout",
     "output_type": "stream",
     "text": [
      "radiotap.datarate\n",
      "wlan.fc.pwrmgt\n",
      "wlan.fc.moredata\n",
      "wlan.fc.protected\n",
      "wlan_mgt.fixed.capabilities.preamble\n",
      "wlan_mgt.fixed.capabilities.short_slot_time\n",
      "wlan_mgt.fixed.timestamp\n",
      "wlan_mgt.fixed.auth_seq\n",
      "wlan_mgt.rsn.akms.type\n",
      "wlan.wep.key\n"
     ]
    }
   ],
   "source": [
    "# Try RFE with logistic regression\n",
    "model = LogisticRegression()\n",
    "\n",
    "# Try 10 features\n",
    "rfe_log = RFE(model, 10)\n",
    "fit_rfe_log = rfe_log.fit(X, Y)\n",
    "# Create list with names of features\n",
    "rfe_log_features = X.columns[fit_rfe_log.get_support()]\n",
    "\n",
    "# Print names of selected features\n",
    "for f in rfe_log_features:\n",
    "    print(f)"
   ]
  },
  {
   "cell_type": "code",
   "execution_count": 9,
   "metadata": {},
   "outputs": [
    {
     "name": "stdout",
     "output_type": "stream",
     "text": [
      "wlan.fc.subtype\n",
      "radiotap.channel.type.cck\n",
      "wlan.fc.type_subtype\n",
      "wlan.fc.pwrmgt\n",
      "radiotap.channel.type.ofdm\n",
      "frame.cap_len\n",
      "wlan.fc.type\n",
      "wlan.qos.priority\n",
      "wlan.wep.icv\n",
      "radiotap.mactime\n"
     ]
    }
   ],
   "source": [
    "# Try Feature Importance using a tree classifier\n",
    "model_tree = ExtraTreesClassifier()\n",
    "fit_tree = model_tree.fit(X,Y)\n",
    "# Get feature importances\n",
    "feature_importance = fit_tree.feature_importances_\n",
    "\n",
    "# Join feature importances to feature names and rank by importance\n",
    "feature_ranking_data = {'Feature':X.columns.values, 'Importance': feature_importance}\n",
    "tree_features = pd.DataFrame(data=feature_ranking_data).nlargest(10,'Importance')\n",
    "# Get list object of the top 10 features\n",
    "tree_features = list(tree_features['Feature'])\n",
    "for f in tree_features:\n",
    "    print(f)"
   ]
  },
  {
   "cell_type": "code",
   "execution_count": 10,
   "metadata": {},
   "outputs": [
    {
     "name": "stdout",
     "output_type": "stream",
     "text": [
      "Number of common features: 1\n",
      "{'wlan.fc.pwrmgt'}\n"
     ]
    }
   ],
   "source": [
    "# How similar are results from trees classifier to RFE logistic model\n",
    "tree_set = set(tree_features)\n",
    "rfe_log_set = set(rfe_log_features)\n",
    "\n",
    "common_features = (tree_set & rfe_log_set)\n",
    "no_common_features = len(common_features)\n",
    "\n",
    "print('Number of common features: %s' % no_common_features)\n",
    "print(common_features)"
   ]
  },
  {
   "cell_type": "code",
   "execution_count": 11,
   "metadata": {},
   "outputs": [
    {
     "name": "stdout",
     "output_type": "stream",
     "text": [
      "wlan.fc.moredata\n",
      "wlan.fc.protected\n",
      "wlan.bssid\n",
      "wlan_mgt.fixed.capabilities.ess\n",
      "wlan_mgt.fixed.capabilities.preamble\n",
      "wlan_mgt.fixed.listen_ival\n",
      "wlan_mgt.fixed.timestamp\n",
      "wlan_mgt.tim.dtim_period\n",
      "wlan_mgt.rsn.akms.type\n",
      "data.len\n"
     ]
    }
   ],
   "source": [
    "# Try RFE with SVC\n",
    "model_svm = LinearSVC()\n",
    "rfe_svm = RFE(model_svm, 10)\n",
    "fit_rfe_svm = rfe_svm.fit(X,Y)\n",
    "\n",
    "# Create list with names of features\n",
    "rfe_svm_features = X.columns[fit_rfe_svm.get_support()]\n",
    "\n",
    "# Print names of selected features\n",
    "for f in rfe_svm_features:\n",
    "    print(f)"
   ]
  },
  {
   "cell_type": "code",
   "execution_count": 12,
   "metadata": {},
   "outputs": [
    {
     "name": "stdout",
     "output_type": "stream",
     "text": [
      "Number of common features with svm and log: 5\n",
      "{'wlan.fc.protected', 'wlan_mgt.rsn.akms.type', 'wlan.fc.moredata', 'wlan_mgt.fixed.timestamp', 'wlan_mgt.fixed.capabilities.preamble'}\n",
      "Number of common features with svm and tree: 0\n",
      "set()\n"
     ]
    }
   ],
   "source": [
    "# Find common features between svm and logistic model\n",
    "rfe_svm_set = set(rfe_svm_features)\n",
    "\n",
    "common_features_svm_log = (rfe_svm_set & rfe_log_set)\n",
    "common_features_svm_trees = (rfe_svm_set & tree_set)\n",
    "\n",
    "print('Number of common features with svm and log: %s' % len(common_features_svm_log))\n",
    "print(common_features_svm_log)\n",
    "\n",
    "print('Number of common features with svm and tree: %s' % len(common_features_svm_trees))\n",
    "print(common_features_svm_trees)"
   ]
  },
  {
   "cell_type": "code",
   "execution_count": 13,
   "metadata": {},
   "outputs": [
    {
     "name": "stdout",
     "output_type": "stream",
     "text": [
      "Explained Variance: [0.80629725 0.12093112 0.02414355 0.0183569  0.01252285]\n",
      "Total variance explained by first 5 components: 0.982251662135151\n"
     ]
    }
   ],
   "source": [
    "# Try PCA on the data\n",
    "\n",
    "pca = PCA(n_components=5)\n",
    "fit_pca = pca.fit(X)\n",
    "\n",
    "# summarize components\n",
    "print(\"Explained Variance: %s\" % fit_pca.explained_variance_ratio_) \n",
    "print(\"Total variance explained by first 5 components: %s\" % sum(fit_pca.explained_variance_ratio_))"
   ]
  },
  {
   "cell_type": "code",
   "execution_count": 25,
   "metadata": {},
   "outputs": [
    {
     "data": {
      "text/plain": [
       "pandas.core.indexes.base.Index"
      ]
     },
     "execution_count": 25,
     "metadata": {},
     "output_type": "execute_result"
    }
   ],
   "source": [
    "type(rfe_log_features)"
   ]
  },
  {
   "cell_type": "code",
   "execution_count": 8,
   "metadata": {
    "scrolled": true
   },
   "outputs": [
    {
     "name": "stdout",
     "output_type": "stream",
     "text": [
      "Index(['class', 'radiotap.datarate', 'wlan.fc.moredata', 'wlan.fc.protected',\n",
      "       'wlan.fc.pwrmgt', 'wlan.wep.key', 'wlan_mgt.fixed.auth_seq',\n",
      "       'wlan_mgt.fixed.capabilities.preamble',\n",
      "       'wlan_mgt.fixed.capabilities.short_slot_time',\n",
      "       'wlan_mgt.fixed.timestamp', 'wlan_mgt.rsn.akms.type'],\n",
      "      dtype='object')\n"
     ]
    }
   ],
   "source": [
    "# Create a dataframe with just the features we're interested in\n",
    "cols_to_use = rfe_log_features.union(['class'])\n",
    "print(cols_to_use)\n",
    "fs_output = data[cols_to_use]"
   ]
  },
  {
   "cell_type": "code",
   "execution_count": 34,
   "metadata": {},
   "outputs": [],
   "source": [
    "fs_output.to_csv(r'FeatureSelectionOutput.csv', index=False)"
   ]
  },
  {
   "cell_type": "code",
   "execution_count": 10,
   "metadata": {},
   "outputs": [
    {
     "ename": "NameError",
     "evalue": "name 'cols_to_use' is not defined",
     "output_type": "error",
     "traceback": [
      "\u001b[0;31m---------------------------------------------------------------------------\u001b[0m",
      "\u001b[0;31mNameError\u001b[0m                                 Traceback (most recent call last)",
      "\u001b[0;32m<ipython-input-10-5e82293c1e10>\u001b[0m in \u001b[0;36m<module>\u001b[0;34m()\u001b[0m\n\u001b[1;32m      5\u001b[0m \u001b[0mtest_data\u001b[0m \u001b[0;34m=\u001b[0m \u001b[0mpd\u001b[0m\u001b[0;34m.\u001b[0m\u001b[0mread_csv\u001b[0m\u001b[0;34m(\u001b[0m\u001b[0mfile\u001b[0m\u001b[0;34m)\u001b[0m\u001b[0;34m\u001b[0m\u001b[0m\n\u001b[1;32m      6\u001b[0m \u001b[0;34m\u001b[0m\u001b[0m\n\u001b[0;32m----> 7\u001b[0;31m \u001b[0mfs_test_output\u001b[0m \u001b[0;34m=\u001b[0m \u001b[0mtest_data\u001b[0m\u001b[0;34m[\u001b[0m\u001b[0mcols_to_use\u001b[0m\u001b[0;34m]\u001b[0m\u001b[0;34m\u001b[0m\u001b[0m\n\u001b[0m\u001b[1;32m      8\u001b[0m \u001b[0;31m#fs_test_output.to_csv(r'FeatureSelectionTestOutput.csv',index=False)\u001b[0m\u001b[0;34m\u001b[0m\u001b[0;34m\u001b[0m\u001b[0m\n",
      "\u001b[0;31mNameError\u001b[0m: name 'cols_to_use' is not defined"
     ]
    }
   ],
   "source": [
    "# Select same features on test data for prediction\n",
    "\n",
    "# Read in pre-processed test data\n",
    "test_file = 'ScaledTestDataSet.csv'\n",
    "test_data = pd.read_csv(file)\n",
    "\n",
    "fs_test_output = test_data[cols_to_use]\n",
    "#fs_test_output.to_csv(r'FeatureSelectionTestOutput.csv',index=False)"
   ]
  },
  {
   "cell_type": "code",
   "execution_count": 11,
   "metadata": {},
   "outputs": [
    {
     "data": {
      "text/plain": [
       "97044"
      ]
     },
     "execution_count": 11,
     "metadata": {},
     "output_type": "execute_result"
    }
   ],
   "source": [
    "len(test_data)"
   ]
  },
  {
   "cell_type": "code",
   "execution_count": null,
   "metadata": {},
   "outputs": [],
   "source": []
  }
 ],
 "metadata": {
  "kernelspec": {
   "display_name": "Python 3",
   "language": "python",
   "name": "python3"
  },
  "language_info": {
   "codemirror_mode": {
    "name": "ipython",
    "version": 3
   },
   "file_extension": ".py",
   "mimetype": "text/x-python",
   "name": "python",
   "nbconvert_exporter": "python",
   "pygments_lexer": "ipython3",
   "version": "3.6.4"
  }
 },
 "nbformat": 4,
 "nbformat_minor": 2
}
