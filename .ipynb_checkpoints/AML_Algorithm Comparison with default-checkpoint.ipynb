{
 "cells": [
  {
   "cell_type": "code",
   "execution_count": 41,
   "metadata": {
    "scrolled": false
   },
   "outputs": [
    {
     "name": "stdout",
     "output_type": "stream",
     "text": [
      "0.9784633774278912\n"
     ]
    },
    {
     "name": "stderr",
     "output_type": "stream",
     "text": [
      "/Library/Frameworks/Python.framework/Versions/3.7/lib/python3.7/site-packages/sklearn/ensemble/forest.py:245: FutureWarning: The default value of n_estimators will change from 10 in version 0.20 to 100 in 0.22.\n",
      "  \"10 in version 0.20 to 100 in 0.22.\", FutureWarning)\n",
      "/Library/Frameworks/Python.framework/Versions/3.7/lib/python3.7/site-packages/sklearn/ensemble/forest.py:245: FutureWarning: The default value of n_estimators will change from 10 in version 0.20 to 100 in 0.22.\n",
      "  \"10 in version 0.20 to 100 in 0.22.\", FutureWarning)\n",
      "/Library/Frameworks/Python.framework/Versions/3.7/lib/python3.7/site-packages/sklearn/ensemble/forest.py:245: FutureWarning: The default value of n_estimators will change from 10 in version 0.20 to 100 in 0.22.\n",
      "  \"10 in version 0.20 to 100 in 0.22.\", FutureWarning)\n",
      "/Library/Frameworks/Python.framework/Versions/3.7/lib/python3.7/site-packages/sklearn/ensemble/forest.py:245: FutureWarning: The default value of n_estimators will change from 10 in version 0.20 to 100 in 0.22.\n",
      "  \"10 in version 0.20 to 100 in 0.22.\", FutureWarning)\n"
     ]
    },
    {
     "name": "stdout",
     "output_type": "stream",
     "text": [
      "[['LR', 0.990870057690322, 0.005848491334589655, '%1.252099623572259'], ['LDA', 0.9914060444927492, 0.010878804245150116, '%1.3054859950425262'], ['KNN', 0.999845428283774, 0.00013825726168107408, '%2.1385356427127786'], ['DT', 0.9966922519222923, 0.006359584897542347, '%1.828937112658748'], ['NB', 0.9744757576067775, 0.02393481229781441, '%-0.4092066724068084'], ['SVM', 0.9887474144778705, 0.0077571060754268095, '%1.0401076047728504'], ['RF', 0.999814514790034, 0.00018605772941139868, '%2.135509841705651']]\n"
     ]
    },
    {
     "name": "stderr",
     "output_type": "stream",
     "text": [
      "/Library/Frameworks/Python.framework/Versions/3.7/lib/python3.7/site-packages/sklearn/ensemble/forest.py:245: FutureWarning: The default value of n_estimators will change from 10 in version 0.20 to 100 in 0.22.\n",
      "  \"10 in version 0.20 to 100 in 0.22.\", FutureWarning)\n"
     ]
    }
   ],
   "source": [
    "#import libraries and feature selection file\n",
    "from matplotlib import pyplot\n",
    "import numpy as np\n",
    "import pandas as pd\n",
    "\n",
    "# import models\n",
    "from sklearn.model_selection import StratifiedKFold\n",
    "from sklearn.model_selection import cross_val_score\n",
    "from sklearn.linear_model import LogisticRegression\n",
    "from sklearn.tree import DecisionTreeClassifier\n",
    "from sklearn.neighbors import KNeighborsClassifier\n",
    "from sklearn.discriminant_analysis import LinearDiscriminantAnalysis\n",
    "from sklearn.dummy import DummyClassifier\n",
    "from sklearn.naive_bayes import GaussianNB\n",
    "from sklearn.svm import SVC\n",
    "from sklearn.ensemble import RandomForestClassifier\n",
    "\n",
    "# load training dataset\n",
    "dataset = pd.read_csv('FeatureSelectionOutput.csv')\n",
    "df = dataset.values\n",
    "X  = df[:,0:-1]\n",
    "Y = df[:,-1]\n",
    "\n",
    "# run against dummy classifier\n",
    "dc = (DummyClassifier(strategy='most_frequent', random_state=0))\n",
    "dskf = StratifiedKFold(n_splits=5, shuffle=False, random_state=None)\n",
    "dcv = cross_val_score(dc, X, Y, cv=skf, scoring='accuracy')\n",
    "dcvm = dcv.mean()\n",
    "print (dcvm)\n",
    "# prepare models\n",
    "models = [( LogisticRegression(solver='lbfgs')),\n",
    "( LinearDiscriminantAnalysis()),\n",
    "( KNeighborsClassifier()),\n",
    "( DecisionTreeClassifier()),\n",
    "( GaussianNB()),\n",
    "( SVC(kernel='rbf', random_state=0, gamma=1, C=1)),\n",
    "(RandomForestClassifier(n_estimators=100))]\n",
    "\n",
    "names = ['LR','LDA','KNN','DT','NB','SVM','RF']\n",
    "\n",
    "\n",
    "scores = []\n",
    "scores2 = []\n",
    "scorevsdefault = []\n",
    "# use stratified kfold cross-validation to test models\n",
    "for model in models:\n",
    "   skf = StratifiedKFold(n_splits=5, shuffle=False, random_state=None)\n",
    "   cv = cross_val_score(model, X, Y, cv=skf, scoring='accuracy')\n",
    "   scores.append(cv.mean())\n",
    "   scores2.append(cv.std())\n",
    "   scorevsdefault.append('%' + str((float(cv.mean()- dcvm)/float(cv.mean()))*100))                         \n",
    "results = [list(a) for a in zip(names, scores, scores2, scorevsdefault)]\n",
    "print (results)"
   ]
  },
  {
   "cell_type": "code",
   "execution_count": null,
   "metadata": {},
   "outputs": [],
   "source": []
  },
  {
   "cell_type": "code",
   "execution_count": null,
   "metadata": {},
   "outputs": [],
   "source": []
  },
  {
   "cell_type": "code",
   "execution_count": null,
   "metadata": {},
   "outputs": [],
   "source": []
  },
  {
   "cell_type": "code",
   "execution_count": null,
   "metadata": {},
   "outputs": [],
   "source": []
  },
  {
   "cell_type": "code",
   "execution_count": null,
   "metadata": {},
   "outputs": [],
   "source": []
  }
 ],
 "metadata": {
  "kernelspec": {
   "display_name": "Python 3",
   "language": "python",
   "name": "python3"
  },
  "language_info": {
   "codemirror_mode": {
    "name": "ipython",
    "version": 3
   },
   "file_extension": ".py",
   "mimetype": "text/x-python",
   "name": "python",
   "nbconvert_exporter": "python",
   "pygments_lexer": "ipython3",
   "version": "3.7.4"
  }
 },
 "nbformat": 4,
 "nbformat_minor": 2
}
