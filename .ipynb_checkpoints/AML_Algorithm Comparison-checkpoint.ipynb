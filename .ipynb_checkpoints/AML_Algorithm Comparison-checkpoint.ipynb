{
 "cells": [
  {
   "cell_type": "code",
   "execution_count": null,
   "metadata": {
    "scrolled": false
   },
   "outputs": [],
   "source": [
    "#import libraries and feature selection file\n",
    "from matplotlib import pyplot\n",
    "import numpy as np\n",
    "import pandas as pd\n",
    "\n",
    "# import models\n",
    "from sklearn.model_selection import StratifiedKFold\n",
    "from sklearn.model_selection import cross_val_score\n",
    "from sklearn.linear_model import LogisticRegression\n",
    "from sklearn.tree import DecisionTreeClassifier\n",
    "from sklearn.neighbors import KNeighborsClassifier\n",
    "from sklearn.discriminant_analysis import LinearDiscriminantAnalysis\n",
    "from sklearn.dummy import DummyClassifier\n",
    "from sklearn.naive_bayes import GaussianNB\n",
    "from sklearn.svm import SVC\n",
    "from sklearn.ensemble import RandomForestClassifier\n",
    "\n",
    "# load training dataset\n",
    "dataset = pd.read_csv('FeatureSelectionOutput.csv')\n",
    "df = dataset.values\n",
    "X  = df[:,0:-1]\n",
    "Y = df[:,-1]\n",
    "\n",
    "# run against dummy classifier\n",
    "\n",
    "# prepare models\n",
    "models = [( LogisticRegression(solver='lbfgs')),\n",
    "( LinearDiscriminantAnalysis()),\n",
    "( KNeighborsClassifier()),\n",
    "( DecisionTreeClassifier()),\n",
    "( GaussianNB()),\n",
    "( SVC(kernel='rbf', random_state=0, gamma=1, C=1)),\n",
    "(RandomForestClassifier())]\n",
    "\n",
    "names = ['LR','LDA','KNN','DT','NB','SVM','RF']\n",
    "\n",
    "\n",
    "scores = []\n",
    "scores2 = []\n",
    "scorevsdefault = []\n",
    "# use stratified kfold cross-validation to test models\n",
    "for model in models:\n",
    "    skf = StratifiedKFold(n_splits=5, shuffle=False, random_state=None)\n",
    "    cv = cross_val_score(model, X, Y, cv=skf, scoring='accuracy')\n",
    "    scores.append(cv.mean())\n",
    "    scores2.append(cv.std())\n",
    "result = [list(a) for a in zip(names, scores, scores2, scorevsdefault)]\n",
    "print (result)"
   ]
  },
  {
   "cell_type": "code",
   "execution_count": null,
   "metadata": {},
   "outputs": [],
   "source": []
  },
  {
   "cell_type": "code",
   "execution_count": null,
   "metadata": {},
   "outputs": [],
   "source": []
  },
  {
   "cell_type": "code",
   "execution_count": null,
   "metadata": {},
   "outputs": [],
   "source": []
  },
  {
   "cell_type": "code",
   "execution_count": null,
   "metadata": {},
   "outputs": [],
   "source": []
  },
  {
   "cell_type": "code",
   "execution_count": null,
   "metadata": {},
   "outputs": [],
   "source": []
  }
 ],
 "metadata": {
  "kernelspec": {
   "display_name": "Python 3",
   "language": "python",
   "name": "python3"
  },
  "language_info": {
   "codemirror_mode": {
    "name": "ipython",
    "version": 3
   },
   "file_extension": ".py",
   "mimetype": "text/x-python",
   "name": "python",
   "nbconvert_exporter": "python",
   "pygments_lexer": "ipython3",
   "version": "3.7.4"
  }
 },
 "nbformat": 4,
 "nbformat_minor": 2
}
