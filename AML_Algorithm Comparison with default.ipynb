{
 "cells": [
  {
   "cell_type": "code",
   "execution_count": 44,
   "metadata": {
    "scrolled": false
   },
   "outputs": [
    {
     "name": "stdout",
     "output_type": "stream",
     "text": [
      "0.9582149933672758\n",
      "[['LR', 0.9887371837807203, 0.014064360023979495, '%3.086987210972905'], ['LDA', 0.9998557370292133, 0.00021467017008603597, '%4.164675174606799'], ['KNN', 0.9998660415271265, 0.00022004386113723263, '%4.1656628418178725'], ['DT', 0.9998969550208667, 0.00018142940761151216, '%4.168625721309562'], ['NB', 0.9744757586686589, 0.024615903458296066, '%1.6686680152617404'], ['SVM', 0.9921170590962956, 0.0079780374918633, '%3.4171437148657287'], ['RF', 0.9998969550208667, 0.00018142940761151216, '%4.168625721309562']]\n"
     ]
    }
   ],
   "source": [
    "#import libraries and feature selection file\n",
    "from matplotlib import pyplot\n",
    "import numpy as np\n",
    "import pandas as pd\n",
    "\n",
    "# import models\n",
    "from sklearn.model_selection import KFold\n",
    "from sklearn.model_selection import cross_val_score\n",
    "from sklearn.linear_model import LogisticRegression\n",
    "from sklearn.tree import DecisionTreeClassifier\n",
    "from sklearn.neighbors import KNeighborsClassifier\n",
    "from sklearn.discriminant_analysis import LinearDiscriminantAnalysis\n",
    "from sklearn.dummy import DummyClassifier\n",
    "from sklearn.naive_bayes import GaussianNB\n",
    "from sklearn.svm import SVC\n",
    "from sklearn.ensemble import RandomForestClassifier\n",
    "\n",
    "# load training dataset\n",
    "dataset = pd.read_csv('FeatureSelectionOutput.csv')\n",
    "df = dataset.values\n",
    "X  = df[:,0:-1]\n",
    "Y = df[:,-1]\n",
    "\n",
    "# run against dummy classifier\n",
    "dc = (DummyClassifier(strategy='stratified', random_state=0))\n",
    "dkf = KFold(n_splits=5, shuffle=False, random_state=None)\n",
    "dcv = cross_val_score(dc, X, Y, cv=dkf, scoring='accuracy')\n",
    "dcvm = dcv.mean()\n",
    "print (dcvm)\n",
    "\n",
    "# prepare models\n",
    "models = [( LogisticRegression(solver='lbfgs')),\n",
    "( LinearDiscriminantAnalysis()),\n",
    "( KNeighborsClassifier()),\n",
    "( DecisionTreeClassifier()),\n",
    "( GaussianNB()),\n",
    "( SVC(kernel='rbf', random_state=0, gamma=1, C=1)),\n",
    "(RandomForestClassifier(n_estimators=100))]\n",
    "\n",
    "names = ['LR','LDA','KNN','DT','NB','SVM','RF']\n",
    "\n",
    "\n",
    "scores = []\n",
    "scores2 = []\n",
    "scorevsdefault = []\n",
    "# use kfold cross-validation to test models\n",
    "for model in models:\n",
    "   kf = KFold(n_splits=5, shuffle=False, random_state=None)\n",
    "   cv = cross_val_score(model, X, Y, cv=kf, scoring='accuracy')\n",
    "   scores.append(cv.mean())\n",
    "   scores2.append(cv.std())\n",
    "   scorevsdefault.append('%' + str((float(cv.mean()- dcvm)/float(cv.mean()))*100))                         \n",
    "results = [list(a) for a in zip(names, scores, scores2, scorevsdefault)]\n",
    "print (results)\n"
   ]
  },
  {
   "cell_type": "code",
   "execution_count": null,
   "metadata": {},
   "outputs": [],
   "source": []
  },
  {
   "cell_type": "code",
   "execution_count": null,
   "metadata": {},
   "outputs": [],
   "source": []
  },
  {
   "cell_type": "code",
   "execution_count": null,
   "metadata": {},
   "outputs": [],
   "source": []
  },
  {
   "cell_type": "code",
   "execution_count": null,
   "metadata": {},
   "outputs": [],
   "source": []
  },
  {
   "cell_type": "code",
   "execution_count": null,
   "metadata": {},
   "outputs": [],
   "source": []
  }
 ],
 "metadata": {
  "kernelspec": {
   "display_name": "Python 3",
   "language": "python",
   "name": "python3"
  },
  "language_info": {
   "codemirror_mode": {
    "name": "ipython",
    "version": 3
   },
   "file_extension": ".py",
   "mimetype": "text/x-python",
   "name": "python",
   "nbconvert_exporter": "python",
   "pygments_lexer": "ipython3",
   "version": "3.7.4"
  }
 },
 "nbformat": 4,
 "nbformat_minor": 2
}
