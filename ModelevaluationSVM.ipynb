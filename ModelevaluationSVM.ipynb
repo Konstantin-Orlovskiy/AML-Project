{
 "cells": [
  {
   "cell_type": "code",
   "execution_count": 4,
   "metadata": {
    "scrolled": true
   },
   "outputs": [
    {
     "data": {
      "text/html": [
       "<div>\n",
       "<style scoped>\n",
       "    .dataframe tbody tr th:only-of-type {\n",
       "        vertical-align: middle;\n",
       "    }\n",
       "\n",
       "    .dataframe tbody tr th {\n",
       "        vertical-align: top;\n",
       "    }\n",
       "\n",
       "    .dataframe thead th {\n",
       "        text-align: right;\n",
       "    }\n",
       "</style>\n",
       "<table border=\"1\" class=\"dataframe\">\n",
       "  <thead>\n",
       "    <tr style=\"text-align: right;\">\n",
       "      <th></th>\n",
       "      <th>label</th>\n",
       "      <th>predicted</th>\n",
       "      <th>probabilty</th>\n",
       "    </tr>\n",
       "  </thead>\n",
       "  <tbody>\n",
       "    <tr>\n",
       "      <th>0</th>\n",
       "      <td>0.0</td>\n",
       "      <td>0.0</td>\n",
       "      <td>2.730444e-03</td>\n",
       "    </tr>\n",
       "    <tr>\n",
       "      <th>1</th>\n",
       "      <td>0.0</td>\n",
       "      <td>0.0</td>\n",
       "      <td>2.730444e-03</td>\n",
       "    </tr>\n",
       "    <tr>\n",
       "      <th>2</th>\n",
       "      <td>0.0</td>\n",
       "      <td>0.0</td>\n",
       "      <td>1.000000e-07</td>\n",
       "    </tr>\n",
       "    <tr>\n",
       "      <th>3</th>\n",
       "      <td>0.0</td>\n",
       "      <td>0.0</td>\n",
       "      <td>2.730444e-03</td>\n",
       "    </tr>\n",
       "    <tr>\n",
       "      <th>4</th>\n",
       "      <td>0.0</td>\n",
       "      <td>0.0</td>\n",
       "      <td>2.730444e-03</td>\n",
       "    </tr>\n",
       "  </tbody>\n",
       "</table>\n",
       "</div>"
      ],
      "text/plain": [
       "   label  predicted    probabilty\n",
       "0    0.0        0.0  2.730444e-03\n",
       "1    0.0        0.0  2.730444e-03\n",
       "2    0.0        0.0  1.000000e-07\n",
       "3    0.0        0.0  2.730444e-03\n",
       "4    0.0        0.0  2.730444e-03"
      ]
     },
     "execution_count": 4,
     "metadata": {},
     "output_type": "execute_result"
    }
   ],
   "source": [
    "import pandas as pd\n",
    "import numpy as np\n",
    "from pandas import read_csv\n",
    "from sklearn.svm import SVC\n",
    "from sklearn.model_selection import train_test_split\n",
    "\n",
    "\n",
    "#you need the pima_indians.csv to run\n",
    "\n",
    "#label data\n",
    "\n",
    "filename = 'FeatureSelectionOutput.csv'\n",
    "\n",
    "\n",
    "#read data\n",
    "data = read_csv(filename)\n",
    "array = data.values\n",
    "X = array[:,0:-1]\n",
    "y = array[:,-1]\n",
    "\n",
    "\n",
    "\n",
    "# split data and train model\n",
    "X_train, X_test, y_train, y_test = train_test_split(X, y, random_state=7)\n",
    "svm = SVC(kernel='rbf', random_state=0, gamma=1, C=1, probability = True)\n",
    "df = pd.DataFrame(y_test, columns = ['label'])\n",
    "\n",
    "\n",
    "\n",
    "# fit model\n",
    "svm.fit(X_train, y_train)\n",
    "\n",
    "# make class predictions for the testing set\n",
    "y_pred_class = svm.predict(X_test)\n",
    "y_pred_prob = svm.predict_proba(X_test)[:, 1]\n",
    "\n",
    "#pass true and predicted values into dataframe\n",
    "#df = y_test.to_frame().reset_index()\n",
    "df['predicted'] = y_pred_class\n",
    "df['probabilty'] = y_pred_prob\n",
    "#df.shape()\n",
    "\n",
    "#if you want to check data has read in correctly:\n",
    "df.head()\n",
    "\n",
    "#to test function:\n",
    "#model_evaluator(df)\n"
   ]
  },
  {
   "cell_type": "code",
   "execution_count": 5,
   "metadata": {
    "scrolled": false
   },
   "outputs": [
    {
     "data": {
      "text/plain": [
       "numpy.ndarray"
      ]
     },
     "execution_count": 5,
     "metadata": {},
     "output_type": "execute_result"
    }
   ],
   "source": [
    "\n",
    "type(y_test)\n"
   ]
  },
  {
   "cell_type": "code",
   "execution_count": 7,
   "metadata": {},
   "outputs": [],
   "source": [
    "import numpy as np\n",
    "import pandas as pd\n",
    "from pandas import read_csv\n",
    "from sklearn import metrics\n",
    "from sklearn.metrics import confusion_matrix\n",
    "import matplotlib.pyplot as plt\n",
    "import matplotlib.gridspec as gridspec\n",
    "from sklearn.metrics import classification_report\n",
    "from matplotlib.ticker import FixedLocator, FixedFormatter\n",
    "\n",
    "\n",
    "##Evaluates the performance of a binary classifier against labelled data.\n",
    "# @param data - a dataframe containing 3 columns: class (binary values), predicted(binary values) and \n",
    "#probability (the predicition the model has made for each value, prior to converting to a binary classification, number between 0 and 1).\n",
    "# @returns - Confusion matrix plot, ROC curve plot, and a small report.\n",
    "\n",
    "def model_evaluator(data):\n",
    "    \n",
    "    #partition processed data into vectors\n",
    "    actualClass = data.label\n",
    "    predictedClass = data.predicted\n",
    "    probability = data.probabilty \n",
    "    \n",
    "    #build a confusion matrix\n",
    "    cm = confusion_matrix(actualClass, predictedClass, labels = [0,1])\n",
    "    \n",
    "    \n",
    "    TruePositive = cm[1, 1]\n",
    "    TrueNegative = cm[0,0]\n",
    "    FalsePositive = cm[0,1]\n",
    "    FalseNegative = cm[1,0]\n",
    "    \n",
    "    numberOfPositives = TruePositive + FalseNegative\n",
    "    numberOfNegatives = TrueNegative + FalsePositive\n",
    "    \n",
    "    #calculate the Null accuracy\n",
    "    null_accuracy = 1 - actualClass.mean()\n",
    "    \n",
    "    #define the model accuracy\n",
    "    model_accuracy = metrics.accuracy_score(actualClass, predictedClass)\n",
    "    \n",
    "    #Generate a metrics report\n",
    "    report = metrics.classification_report(actualClass, predictedClass, output_dict = True)\n",
    "  \n",
    "    #calculate the model performance over the null accuracy\n",
    "    performance_over_null = model_accuracy - null_accuracy\n",
    "    \n",
    "    #Calculate the Specificity of the model \n",
    "    specificity = TrueNegative / (TrueNegative + FalsePositive)\n",
    "    \n",
    "    #Calculate the True positive rate, false positive rate, and thresholds to plot a rock curve\n",
    "    fpr, tpr, thresholds = metrics.roc_curve(actualClass, probability)\n",
    "    \n",
    "    #Calculate the Area under the ROC Curve\n",
    "    rocAuc = metrics.roc_auc_score(actualClass, probability)\n",
    "    \n",
    "    #generate figure\n",
    "    fig = plt.figure(figsize = (12, 20))\n",
    "    spec = gridspec.GridSpec(ncols=2, nrows=1, wspace=0.5, width_ratios=[1, 1], figure=fig)\n",
    "    \n",
    "    #plot confusion matrix in pos 0,0\n",
    "    confusionMatrixLabels = ['Normal Traffic', 'Intrusion']\n",
    "    confusionMatrixColourMap = plt.cm.Blues\n",
    "    confusionMatrix = fig.add_subplot(spec[0,0])\n",
    "    confusionMatrix.set_aspect('equal')\n",
    "    confusionMatrix.imshow(cm, interpolation = 'nearest', cmap = confusionMatrixColourMap)\n",
    "    confusionMatrix.set(ylabel ='True class', xlabel ='Predicted class')\n",
    "    #confusionMatrix.xlabel(labelpad=5)\n",
    "            \n",
    "    confusionMatrix.set_xticks(np.arange(0,2))\n",
    "    formatter = FixedFormatter(['Normal Traffic', 'Intrusion'])\n",
    "    locator = FixedLocator([0,1])\n",
    "    \n",
    "    confusionMatrix.yaxis.set_major_formatter(formatter)\n",
    "    confusionMatrix.yaxis.set_major_locator(locator)\n",
    "    confusionMatrix.xaxis.set_major_formatter(formatter)\n",
    "    confusionMatrix.xaxis.set_major_locator(locator)\n",
    "    \n",
    "    #confusionMatrix.set_yticks(np.arange(0,2))\n",
    "    #confusionMatrix.set_xticklabels(np.arange(0,1), confusionMatrixLabels, fontdict = None)\n",
    "    \n",
    "    tot = sum(df.label)\n",
    "    for i in range(cm.shape[0]):\n",
    "        for j in range(cm.shape[1]):\n",
    "            confusionMatrix.text(j, i, (format(cm[i, j])),ha ='center', va=\"baseline\", color=\"white\" if cm[i,j] > tot else 'black', size = 'larger')\n",
    "    \n",
    "   \n",
    "    cmLabels = ['TN', 'FP', 'FN', 'TP' ]\n",
    "    a = 0\n",
    "    for i in range(cm.shape[0]):\n",
    "        for j in range(cm.shape[1]):\n",
    "            confusionMatrix.text(j + 0.3, i + 0.4, (cmLabels[a]), ha ='center', va=\"baseline\", color=\"white\" if cm[i,j] > tot else 'black', size = 'larger')\n",
    "            if a < 4:\n",
    "                a += 1\n",
    "    a=0          \n",
    "    for i in range(cm.shape[a]):\n",
    "        if a == 0:\n",
    "            confusionMatrix.text(j+0.8, i, ('Total:\\n %d' % (numberOfNegatives)), ha ='center', va=\"center\", color = 'black', size = 'larger')\n",
    "            a += 1\n",
    "        else:\n",
    "            confusionMatrix.text(j+0.8, i, ('Total:\\n %d' % (numberOfPositives)), ha ='center', va=\"center\", color = 'black', size = 'larger')\n",
    "    \n",
    "    #plot roc curve in position 0,1 \n",
    "    rocCurve = fig.add_subplot(spec[0, 1])\n",
    "    rocCurve.set_aspect('equal')\n",
    "    rocCurve.plot(fpr, tpr, color='red', lw=2, label = 'ROC area = %0.5f)' % rocAuc )\n",
    "    rocCurve.set(xlabel = 'True Positive Rate (Sensitivity)', ylabel = 'True Positive Rate (Sensitivity)' )\n",
    "    rocCurve.legend(loc=\"lower right\")\n",
    "    \n",
    "    \n",
    "    #print report\n",
    "    print('The performance of this model over the null accuracy is %2.2f%%\\nModel Sensitivity: %2.6f%% \\nModel Specificity: %2.6f%% \\nModel F1 Score: %2.6f' \n",
    "      % ((performance_over_null *100), (report['1']['recall']*100), (specificity*100), (report['1']['f1-score'])))\n"
   ]
  },
  {
   "cell_type": "code",
   "execution_count": 8,
   "metadata": {
    "scrolled": false
   },
   "outputs": [
    {
     "ename": "KeyError",
     "evalue": "'1'",
     "output_type": "error",
     "traceback": [
      "\u001b[0;31m---------------------------------------------------------------------------\u001b[0m",
      "\u001b[0;31mKeyError\u001b[0m                                  Traceback (most recent call last)",
      "\u001b[0;32m<ipython-input-8-97ecc7bf1c94>\u001b[0m in \u001b[0;36m<module>\u001b[0;34m\u001b[0m\n\u001b[0;32m----> 1\u001b[0;31m \u001b[0mmodel_evaluator\u001b[0m\u001b[0;34m(\u001b[0m\u001b[0mdf\u001b[0m\u001b[0;34m)\u001b[0m\u001b[0;34m\u001b[0m\u001b[0;34m\u001b[0m\u001b[0m\n\u001b[0m",
      "\u001b[0;32m<ipython-input-7-c635d25fd6b9>\u001b[0m in \u001b[0;36mmodel_evaluator\u001b[0;34m(data)\u001b[0m\n\u001b[1;32m    111\u001b[0m     \u001b[0;31m#print report\u001b[0m\u001b[0;34m\u001b[0m\u001b[0;34m\u001b[0m\u001b[0;34m\u001b[0m\u001b[0m\n\u001b[1;32m    112\u001b[0m     print('The performance of this model over the null accuracy is %2.2f%%\\nModel Sensitivity: %2.6f%% \\nModel Specificity: %2.6f%% \\nModel F1 Score: %2.6f' \n\u001b[0;32m--> 113\u001b[0;31m       % ((performance_over_null *100), (report['1']['recall']*100), (specificity*100), (report['1']['f1-score'])))\n\u001b[0m",
      "\u001b[0;31mKeyError\u001b[0m: '1'"
     ]
    },
    {
     "data": {
      "image/png": "[encoded data removed]",
      "text/plain": [
       "<Figure size 864x1440 with 2 Axes>"
      ]
     },
     "metadata": {
      "needs_background": "light"
     },
     "output_type": "display_data"
    }
   ],
   "source": [
    "model_evaluator(df)"
   ]
  },
  {
   "cell_type": "code",
   "execution_count": null,
   "metadata": {},
   "outputs": [],
   "source": []
  }
 ],
 "metadata": {
  "kernelspec": {
   "display_name": "Python 3",
   "language": "python",
   "name": "python3"
  },
  "language_info": {
   "codemirror_mode": {
    "name": "ipython",
    "version": 3
   },
   "file_extension": ".py",
   "mimetype": "text/x-python",
   "name": "python",
   "nbconvert_exporter": "python",
   "pygments_lexer": "ipython3",
   "version": "3.7.4"
  }
 },
 "nbformat": 4,
 "nbformat_minor": 2
}
