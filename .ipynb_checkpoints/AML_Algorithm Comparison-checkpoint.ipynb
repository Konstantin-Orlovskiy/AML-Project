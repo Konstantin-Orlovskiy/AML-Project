{
 "cells": [
  {
   "cell_type": "code",
   "execution_count": 9,
   "metadata": {
    "scrolled": false
   },
   "outputs": [
    {
     "name": "stderr",
     "output_type": "stream",
     "text": [
      "/Library/Frameworks/Python.framework/Versions/3.7/lib/python3.7/site-packages/sklearn/ensemble/forest.py:245: FutureWarning: The default value of n_estimators will change from 10 in version 0.20 to 100 in 0.22.\n",
      "  \"10 in version 0.20 to 100 in 0.22.\", FutureWarning)\n",
      "/Library/Frameworks/Python.framework/Versions/3.7/lib/python3.7/site-packages/sklearn/ensemble/forest.py:245: FutureWarning: The default value of n_estimators will change from 10 in version 0.20 to 100 in 0.22.\n",
      "  \"10 in version 0.20 to 100 in 0.22.\", FutureWarning)\n",
      "/Library/Frameworks/Python.framework/Versions/3.7/lib/python3.7/site-packages/sklearn/ensemble/forest.py:245: FutureWarning: The default value of n_estimators will change from 10 in version 0.20 to 100 in 0.22.\n",
      "  \"10 in version 0.20 to 100 in 0.22.\", FutureWarning)\n",
      "/Library/Frameworks/Python.framework/Versions/3.7/lib/python3.7/site-packages/sklearn/ensemble/forest.py:245: FutureWarning: The default value of n_estimators will change from 10 in version 0.20 to 100 in 0.22.\n",
      "  \"10 in version 0.20 to 100 in 0.22.\", FutureWarning)\n"
     ]
    },
    {
     "name": "stdout",
     "output_type": "stream",
     "text": [
      "[['LR', 0.990870057690322, 0.005848491334589655], ['LDA', 0.9914060444927492, 0.010878804245150116], ['KNN', 0.999845428283774, 0.00013825726168107408], ['DT', 0.9966922519222923, 0.006359584897542347], ['NB', 0.9744757576067775, 0.02393481229781441], ['SVM', 0.9887474144778705, 0.0077571060754268095], ['DC', 0.9784633774278912, 4.438664599870634e-07], ['RF', 0.9998969507733406, 0.00015628385059265467]]\n"
     ]
    },
    {
     "name": "stderr",
     "output_type": "stream",
     "text": [
      "/Library/Frameworks/Python.framework/Versions/3.7/lib/python3.7/site-packages/sklearn/ensemble/forest.py:245: FutureWarning: The default value of n_estimators will change from 10 in version 0.20 to 100 in 0.22.\n",
      "  \"10 in version 0.20 to 100 in 0.22.\", FutureWarning)\n"
     ]
    }
   ],
   "source": [
    "#import libraries and feature selection file\n",
    "from matplotlib import pyplot\n",
    "import numpy as np\n",
    "import pandas as pd\n",
    "\n",
    "# import models\n",
    "from sklearn.model_selection import StratifiedKFold\n",
    "from sklearn.model_selection import cross_val_score\n",
    "from sklearn.linear_model import LogisticRegression\n",
    "from sklearn.tree import DecisionTreeClassifier\n",
    "from sklearn.neighbors import KNeighborsClassifier\n",
    "from sklearn.discriminant_analysis import LinearDiscriminantAnalysis\n",
    "from sklearn.dummy import DummyClassifier\n",
    "from sklearn.naive_bayes import GaussianNB\n",
    "from sklearn.svm import SVC\n",
    "from sklearn.ensemble import RandomForestClassifier\n",
    "\n",
    "# load training dataset\n",
    "dataset = pd.read_csv('FeatureSelectionOutput.csv')\n",
    "df = dataset.values\n",
    "X  = df[:,0:-1]\n",
    "Y = df[:,-1]\n",
    "\n",
    "\n",
    "# prepare models\n",
    "models = [( LogisticRegression(solver='lbfgs')),\n",
    "( LinearDiscriminantAnalysis()),\n",
    "( KNeighborsClassifier()),\n",
    "( DecisionTreeClassifier()),\n",
    "( GaussianNB()),\n",
    "( SVC(kernel='rbf', random_state=0, gamma=1, C=1)),\n",
    "(DummyClassifier(strategy='most_frequent', random_state=0)),\n",
    "(RandomForestClassifier())]\n",
    "\n",
    "names = ['LR','LDA','KNN','DT','NB','SVM','DC','RF']\n",
    "\n",
    "scores = []\n",
    "scores2 = []\n",
    "# use stratified kfold cross-validation to test models\n",
    "for model in models:\n",
    "    skf = StratifiedKFold(n_splits=5, shuffle=False, random_state=None)\n",
    "    cv = cross_val_score(model, X, Y, cv=skf, scoring='accuracy')\n",
    "    scores.append(cv.mean())\n",
    "    scores2.append(cv.std())\n",
    "    \n",
    "    \n",
    "results = [list(a) for a in zip(names, scores, scores2)]\n",
    "print (results)\n",
    "    \n",
    "\n",
    "\n",
    "\n",
    "\n",
    "\n"
   ]
  },
  {
   "cell_type": "code",
   "execution_count": null,
   "metadata": {},
   "outputs": [],
   "source": []
  },
  {
   "cell_type": "code",
   "execution_count": null,
   "metadata": {},
   "outputs": [],
   "source": []
  },
  {
   "cell_type": "code",
   "execution_count": null,
   "metadata": {},
   "outputs": [],
   "source": []
  },
  {
   "cell_type": "code",
   "execution_count": null,
   "metadata": {},
   "outputs": [],
   "source": []
  },
  {
   "cell_type": "code",
   "execution_count": null,
   "metadata": {},
   "outputs": [],
   "source": []
  }
 ],
 "metadata": {
  "kernelspec": {
   "display_name": "Python 3",
   "language": "python",
   "name": "python3"
  },
  "language_info": {
   "codemirror_mode": {
    "name": "ipython",
    "version": 3
   },
   "file_extension": ".py",
   "mimetype": "text/x-python",
   "name": "python",
   "nbconvert_exporter": "python",
   "pygments_lexer": "ipython3",
   "version": "3.7.4"
  }
 },
 "nbformat": 4,
 "nbformat_minor": 2
}
