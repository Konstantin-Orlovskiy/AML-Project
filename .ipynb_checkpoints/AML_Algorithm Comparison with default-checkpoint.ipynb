{
 "cells": [
  {
   "cell_type": "code",
   "execution_count": 43,
   "metadata": {
    "scrolled": false
   },
   "outputs": [
    {
     "name": "stdout",
     "output_type": "stream",
     "text": [
      "0.9579778242617577\n",
      "[['LR', 0.990870057690322, 0.005848491334589655, '%3.3195304644924635'], ['LDA', 0.9914060444927492, 0.010878804245150116, '%3.371799114670007'], ['KNN', 0.999845428283774, 0.00013825726168107408, '%4.187407656989707'], ['DT', 0.9966922519222923, 0.006359584897542347, '%3.884291022215447'], ['NB', 0.9744757576067775, 0.02393481229781441, '%1.6930060308054466'], ['SVM', 0.9887474144778705, 0.0077571060754268095, '%3.1119768067723705'], ['RF', 0.999814514790034, 0.00018605772941139868, '%4.18444520552517']]\n"
     ]
    }
   ],
   "source": [
    "#import libraries and feature selection file\n",
    "from matplotlib import pyplot\n",
    "import numpy as np\n",
    "import pandas as pd\n",
    "\n",
    "# import models\n",
    "from sklearn.model_selection import KFold\n",
    "from sklearn.model_selection import cross_val_score\n",
    "from sklearn.linear_model import LogisticRegression\n",
    "from sklearn.tree import DecisionTreeClassifier\n",
    "from sklearn.neighbors import KNeighborsClassifier\n",
    "from sklearn.discriminant_analysis import LinearDiscriminantAnalysis\n",
    "from sklearn.dummy import DummyClassifier\n",
    "from sklearn.naive_bayes import GaussianNB\n",
    "from sklearn.svm import SVC\n",
    "from sklearn.ensemble import RandomForestClassifier\n",
    "\n",
    "# load training dataset\n",
    "dataset = pd.read_csv('FeatureSelectionOutput.csv')\n",
    "df = dataset.values\n",
    "X  = df[:,0:-1]\n",
    "Y = df[:,-1]\n",
    "\n",
    "# run against dummy classifier\n",
    "dc = (DummyClassifier(strategy='stratified', random_state=0))\n",
    "dkf = KFold(n_splits=5, shuffle=False, random_state=None)\n",
    "dcv = cross_val_score(dc, X, Y, cv=dkf, scoring='accuracy')\n",
    "dcvm = dcv.mean()\n",
    "print (dcvm)\n",
    "\n",
    "# prepare models\n",
    "models = [( LogisticRegression(solver='lbfgs')),\n",
    "( LinearDiscriminantAnalysis()),\n",
    "( KNeighborsClassifier()),\n",
    "( DecisionTreeClassifier()),\n",
    "( GaussianNB()),\n",
    "( SVC(kernel='rbf', random_state=0, gamma=1, C=1)),\n",
    "(RandomForestClassifier(n_estimators=100))]\n",
    "\n",
    "names = ['LR','LDA','KNN','DT','NB','SVM','RF']\n",
    "\n",
    "\n",
    "scores = []\n",
    "scores2 = []\n",
    "scorevsdefault = []\n",
    "# use kfold cross-validation to test models\n",
    "for model in models:\n",
    "   kf = KFold(n_splits=5, shuffle=False, random_state=None)\n",
    "   cv = cross_val_score(model, X, Y, cv=kf, scoring='accuracy')\n",
    "   scores.append(cv.mean())\n",
    "   scores2.append(cv.std())\n",
    "   scorevsdefault.append('%' + str((float(cv.mean()- dcvm)/float(cv.mean()))*100))                         \n",
    "results = [list(a) for a in zip(names, scores, scores2, scorevsdefault)]\n",
    "print (results)\n"
   ]
  },
  {
   "cell_type": "code",
   "execution_count": null,
   "metadata": {},
   "outputs": [],
   "source": []
  },
  {
   "cell_type": "code",
   "execution_count": null,
   "metadata": {},
   "outputs": [],
   "source": []
  },
  {
   "cell_type": "code",
   "execution_count": null,
   "metadata": {},
   "outputs": [],
   "source": []
  },
  {
   "cell_type": "code",
   "execution_count": null,
   "metadata": {},
   "outputs": [],
   "source": []
  },
  {
   "cell_type": "code",
   "execution_count": null,
   "metadata": {},
   "outputs": [],
   "source": []
  }
 ],
 "metadata": {
  "kernelspec": {
   "display_name": "Python 3",
   "language": "python",
   "name": "python3"
  },
  "language_info": {
   "codemirror_mode": {
    "name": "ipython",
    "version": 3
   },
   "file_extension": ".py",
   "mimetype": "text/x-python",
   "name": "python",
   "nbconvert_exporter": "python",
   "pygments_lexer": "ipython3",
   "version": "3.7.4"
  }
 },
 "nbformat": 4,
 "nbformat_minor": 2
}
